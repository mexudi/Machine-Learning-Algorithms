{
 "cells": [
  {
   "cell_type": "markdown",
   "id": "7b20b927",
   "metadata": {},
   "source": [
    "## Overview\n",
    "\n",
    "One of the best things about the scikit-learn library in python is that it provides four steps modeling patterns that make it easy for the programmer to train a machine learning classifier. In this article, I will use Logistic Regression with python, to classify the digits which are based on images. After preparing our machine learning model with this logistic regression, we can use it to predict an image labeled with the numbers."
   ]
  },
  {
   "cell_type": "markdown",
   "id": "58022d6b",
   "metadata": {},
   "source": [
    "## Logistic Regression on Digits with Python\n",
    "\n",
    "The scikit-learn library comes with a preloaded digits dataset. That means we need to load the digits dataset, and we are not required to download any dataset for this classification. Now let’s load our dataset."
   ]
  },
  {
   "cell_type": "code",
   "execution_count": 1,
   "id": "c9bb551f",
   "metadata": {},
   "outputs": [],
   "source": [
    "from sklearn.datasets import load_digits\n",
    "digits = load_digits()"
   ]
  },
  {
   "cell_type": "markdown",
   "id": "6a6d55d1",
   "metadata": {},
   "source": [
    "Now let’s look at some insights from the dataset."
   ]
  },
  {
   "cell_type": "code",
   "execution_count": 2,
   "id": "68e01d1a",
   "metadata": {},
   "outputs": [
    {
     "name": "stdout",
     "output_type": "stream",
     "text": [
      "Image Data Shape (1797, 64)\n",
      "Label Data Shape (1797,)\n"
     ]
    }
   ],
   "source": [
    "# Print to show there are 1797 images (8 by 8 images for a dimensionality of 64)\n",
    "print(\"Image Data Shape\" , digits.data.shape)\n",
    "# Print to show there are 1797 labels (integers from 0–9)\n",
    "print(\"Label Data Shape\", digits.target.shape)"
   ]
  },
  {
   "cell_type": "markdown",
   "id": "919fb565",
   "metadata": {},
   "source": [
    "## To Show the Images and Labels in Digits Dataset\n",
    "\n",
    "Now let’s see what our data contains, I will visualize the images and labels present in the dataset, to know what I need to work with."
   ]
  },
  {
   "cell_type": "code",
   "execution_count": 3,
   "id": "6f51fc04",
   "metadata": {},
   "outputs": [
    {
     "data": {
      "image/png": "[encoded data removed]",
      "text/plain": [
       "<Figure size 1440x288 with 5 Axes>"
      ]
     },
     "metadata": {
      "needs_background": "light"
     },
     "output_type": "display_data"
    }
   ],
   "source": [
    "import numpy as np \n",
    "import matplotlib.pyplot as plt\n",
    "plt.figure(figsize=(20,4))\n",
    "for index, (image, label) in enumerate(zip(digits.data[0:5], digits.target[0:5])):\n",
    "  plt.subplot(1, 5, index + 1)\n",
    "  plt.imshow(np.reshape(image, (8,8)), cmap=plt.cm.gray)\n",
    "  plt.title('Training: %in' % label, fontsize = 20)"
   ]
  },
  {
   "cell_type": "markdown",
   "id": "d3e5211d",
   "metadata": {},
   "source": [
    "## Split the Data into Training and Test Set\n",
    "\n",
    "Step one is the import the model that we want to use, As this article is based on the logistic regression so, I will import the logistic regression model from the scikit-learn library in python."
   ]
  },
  {
   "cell_type": "code",
   "execution_count": 4,
   "id": "7d0884c5",
   "metadata": {},
   "outputs": [],
   "source": [
    "from sklearn.model_selection import train_test_split\n",
    "x_train, x_test, y_train, y_test = train_test_split(digits.data, \n",
    "                                                    digits.target, test_size=0.25, \n",
    "                                                    random_state=0)"
   ]
  },
  {
   "cell_type": "code",
   "execution_count": 5,
   "id": "2e729786",
   "metadata": {},
   "outputs": [],
   "source": [
    "from sklearn.linear_model import LogisticRegression"
   ]
  },
  {
   "cell_type": "markdown",
   "id": "ee132f57",
   "metadata": {},
   "source": [
    "Step two is to create an instance of the model, which means that we need to store the Logistic Regression model into a variable."
   ]
  },
  {
   "cell_type": "code",
   "execution_count": null,
   "id": "4bd56ef8",
   "metadata": {},
   "outputs": [],
   "source": []
  }
 ],
 "metadata": {
  "kernelspec": {
   "display_name": "Python 3 (ipykernel)",
   "language": "python",
   "name": "python3"
  },
  "language_info": {
   "codemirror_mode": {
    "name": "ipython",
    "version": 3
   },
   "file_extension": ".py",
   "mimetype": "text/x-python",
   "name": "python",
   "nbconvert_exporter": "python",
   "pygments_lexer": "ipython3",
   "version": "3.10.0"
  }
 },
 "nbformat": 4,
 "nbformat_minor": 5
}
